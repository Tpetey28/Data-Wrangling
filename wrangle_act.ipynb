{
 "cells": [
  {
   "cell_type": "markdown",
   "id": "9c3de619-07d4-4332-8710-3c0cbdd7531a",
   "metadata": {
    "tags": []
   },
   "source": [
    "# TABLE OF CONTENTS\n",
    "\n",
    "<a href=\"#settingup\"> Setting Up the Workbook</a></li>\n",
    "    \n",
    "<a href=\"#gathering\"> Gathering the Data</a></li>\n",
    "\n",
    "<a href=\"#assessing\"> Assessing the Data</a></li>\n",
    "\n",
    "<a href=\"#storing\"> Storing the Data</a></li>\n",
    "\n",
    "<a href=\"#visuals\"> Visualizations</a></li>\n",
    "\n",
    "<a href=\"#insights\"> Insights and Documentation</a></li>"
   ]
  },
  {
   "cell_type": "markdown",
   "id": "7bd58516-a8a0-4310-af99-4439eb3e3ebf",
   "metadata": {},
   "source": [
    "## <h2 id=\"settingup\"> Setting Up the Workbook</h2>\n",
    "\n",
    "Below we will be importing several needed libraries and setting a few options to improve usability."
   ]
  },
  {
   "cell_type": "code",
   "execution_count": 1,
   "id": "9495f03f-3990-4d3b-b866-8b1bbd8c535e",
   "metadata": {},
   "outputs": [],
   "source": [
    "import pandas as pd\n",
    "import numpy as np\n",
    "import requests\n",
    "import tweepy\n",
    "import json\n",
    "import matplotlib.pyplot as plt\n",
    "%matplotlib inline\n",
    "\n",
    "pd.set_option('display.max_columns', None)\n",
    "pd.set_option('display.max_rows', None)"
   ]
  },
  {
   "cell_type": "code",
   "execution_count": 2,
   "id": "1e9d9b35-361a-41f8-ac97-4b4c50ccf5ef",
   "metadata": {},
   "outputs": [],
   "source": [
    "consumer_key = 'jyyqvPjTYwU79YCLvBj0SIbd9'\n",
    "consumer_secret = 'vTEOLzqaY9mtgpk5j5Ntnhwh75Mg83YXdaqhVU5o22Uyv711XZ'\n",
    "access_token = '711651407477080065-CsPxGXKPp7ZyDQ6GFxNC57CLibJ2zcn'\n",
    "access_secret = 'HGZ1Jj3gSbXh4d3MLS6XTKi28hgZm9QpDQwUoNXHuX3LE'\n",
    "\n",
    "auth = tweepy.OAuthHandler(consumer_key, consumer_secret)\n",
    "auth.set_access_token(access_token, access_secret)\n",
    "\n",
    "api = tweepy.API(auth)"
   ]
  },
  {
   "cell_type": "markdown",
   "id": "e75aed3f-5609-40f3-92d0-6a65a1adcabc",
   "metadata": {},
   "source": [
    "## <h2 id=\"gathering\"> Gathering the Data </h2>"
   ]
  },
  {
   "cell_type": "markdown",
   "id": "f0f2535e-cecd-40bc-bdf3-c6be10a9c8f0",
   "metadata": {},
   "source": [
    "#### Using tweepy & json to write tweets to text file\n",
    "\n",
    "In the following cell, initialize the df_archive dataframe by reading in the local file.\n",
    "\n",
    "After that, we set up a list titled tweet_ids to hold a list of tweet ids for future use.\n",
    "\n",
    "Lastly we use a for loop to create tweet_json.txt and ping the Twitter api where it returns all tweet data and writes it into the tweet_json.txtfile.\n",
    "\n",
    "### * Key Information Has Been Omitted"
   ]
  },
  {
   "cell_type": "code",
   "execution_count": 3,
   "id": "89cefeab-da10-4e70-b84b-947d3e902fd2",
   "metadata": {
    "tags": []
   },
   "outputs": [
    {
     "name": "stdout",
     "output_type": "stream",
     "text": [
      "Complete\n",
      "1484\n"
     ]
    }
   ],
   "source": [
    "df_archive = pd.read_csv('twitter-archive-enhanced.csv')\n",
    "tweet_ids = np.array(df_archive['tweet_id'])\n",
    "errors = []\n",
    "\n",
    "#loops through tweet_ids, pings Twitter API, stores tweet data in tweet_json.txt\n",
    "with open ('tweet_json.txt', 'w') as file:\n",
    "    for id in tweet_ids:\n",
    "        try:\n",
    "            tweet = api.get_status(id, tweet_mode = 'extended')\n",
    "            json.dump(tweet._json, file)\n",
    "            file.write('\\n')\n",
    "            \n",
    "               \n",
    "        except:\n",
    "            errors.append(id)\n",
    "print('Complete')    \n",
    "print(len(errors))"
   ]
  },
  {
   "cell_type": "markdown",
   "id": "17e8770f-2392-45ef-a1c6-aa63e773ca26",
   "metadata": {},
   "source": [
    "#### Converting text file into list to be used in creating dataframe\n",
    "\n",
    "First, we set up an empy list tweet_list to hold the contents of the tweet_json.txt file\n",
    "\n",
    "In the second half of the cell, we use a for loop to write contents of the file to the list."
   ]
  },
  {
   "cell_type": "code",
   "execution_count": 3,
   "id": "df01be06-c104-4880-a03e-3ea1b083580c",
   "metadata": {
    "tags": []
   },
   "outputs": [],
   "source": [
    "#initializing tweet list to store list of dictionaries. Each dictionary is a tweet.\n",
    "tweet_list = []\n",
    "\n",
    "#loops through each line of the tweet_json.txt file and uses json.loads to convert tweet in string format to tweet in dictionary format. Dictionaries are appended to tweet_list\n",
    "from pandas import json_normalize\n",
    "with open('tweet_json.txt', 'r') as file:\n",
    "    contents = file.readlines()\n",
    "    for line in contents:\n",
    "        js = json.loads(line)\n",
    "        tweet_list.append(js)          "
   ]
  },
  {
   "cell_type": "code",
   "execution_count": 4,
   "id": "db6070fe-b99b-481d-8c30-a271fcfe3a55",
   "metadata": {},
   "outputs": [
    {
     "data": {
      "text/plain": [
       "872"
      ]
     },
     "execution_count": 4,
     "metadata": {},
     "output_type": "execute_result"
    }
   ],
   "source": [
    "len(tweet_list)"
   ]
  },
  {
   "cell_type": "markdown",
   "id": "00169a1a-8c1a-4f05-a925-0aaafb8e1fd3",
   "metadata": {},
   "source": [
    "#### Using requests library to download image_predictions.tsv\n",
    "\n",
    "In the below cell, we use the requests.get() call to ping the url provided and download the file image-predictions.tsv.\n",
    "\n",
    "Once the file is downloaded, it is written to a file and saved locally."
   ]
  },
  {
   "cell_type": "code",
   "execution_count": 5,
   "id": "619aaac6-fdfa-4d11-a86c-08d9ac47b6f0",
   "metadata": {},
   "outputs": [],
   "source": [
    "url = 'https://d17h27t6h515a5.cloudfront.net/topher/2017/August/599fd2ad_image-predictions/image-predictions.tsv'\n",
    "\n",
    "image_predictions = requests.get(url)\n",
    "\n",
    "with open('image_predictions.tsv', 'wb') as file:\n",
    "    file.write(image_predictions.content)"
   ]
  },
  {
   "cell_type": "markdown",
   "id": "bb07d5e6-bb47-4d04-b58e-3d4bdc956982",
   "metadata": {},
   "source": [
    "#### Creating 3 Seperate Dataframes \n",
    "\n",
    "Now that we have all 3 data sources ready to be used, we initialize 3 dataframes to hold each different source."
   ]
  },
  {
   "cell_type": "code",
   "execution_count": 6,
   "id": "e3037614-3ae3-4eb0-acae-7eaf925d4e32",
   "metadata": {},
   "outputs": [],
   "source": [
    "#converts list of dictionaries (tweets) into a dataframe (df_counts)\n",
    "df_counts = pd.DataFrame(tweet_list)\n",
    "\n",
    "#converts image_predictions.tsv file into dataframe (df_images)\n",
    "df_images = pd.read_csv('image_predictions.tsv', sep = '\\t')\n",
    "\n",
    "#converts twitter-archive-enhanced.csv into dataframe (df_archive)\n",
    "df_archive = pd.read_csv('twitter-archive-enhanced.csv')"
   ]
  },
  {
   "cell_type": "markdown",
   "id": "6ad53c63-2ac2-47d7-8edc-22d3ed712b7e",
   "metadata": {},
   "source": [
    "#### Dropping all unneccessary columns in df_counts with loop\n",
    "\n",
    "Many unneccessary columns came with the twitter api data, and those are dropped in this cell."
   ]
  },
  {
   "cell_type": "code",
   "execution_count": 7,
   "id": "bddac2fe-d180-4e42-a651-a9f9e87bdbb7",
   "metadata": {
    "tags": []
   },
   "outputs": [],
   "source": [
    "#loops through column names and drops those not included in keeper_columns list\n",
    "\n",
    "keeper_columns = ['id', 'retweet_count', 'favorite_count']\n",
    "for column_name, value in df_counts.iteritems():\n",
    "    if column_name not in keeper_columns:\n",
    "        df_counts.drop(column_name, axis=1, inplace = True)"
   ]
  },
  {
   "cell_type": "markdown",
   "id": "28a9577c-33e7-4cf0-b9f3-547580685d15",
   "metadata": {},
   "source": [
    "## <h2 id=\"assessing\"> Assessing the Data </h2>"
   ]
  },
  {
   "cell_type": "markdown",
   "id": "7facd7df-ff4b-43ec-870b-1c687e293e93",
   "metadata": {},
   "source": [
    "### Displaying all Data\n",
    "\n",
    "Here we will be displaying all 3 dataframes for visual assessment."
   ]
  },
  {
   "cell_type": "code",
   "execution_count": 8,
   "id": "f8ceeca1-6df8-496e-928b-d048b37dfb30",
   "metadata": {},
   "outputs": [
    {
     "data": {
      "text/html": [
       "<div>\n",
       "<style scoped>\n",
       "    .dataframe tbody tr th:only-of-type {\n",
       "        vertical-align: middle;\n",
       "    }\n",
       "\n",
       "    .dataframe tbody tr th {\n",
       "        vertical-align: top;\n",
       "    }\n",
       "\n",
       "    .dataframe thead th {\n",
       "        text-align: right;\n",
       "    }\n",
       "</style>\n",
       "<table border=\"1\" class=\"dataframe\">\n",
       "  <thead>\n",
       "    <tr style=\"text-align: right;\">\n",
       "      <th></th>\n",
       "      <th>id</th>\n",
       "      <th>retweet_count</th>\n",
       "      <th>favorite_count</th>\n",
       "    </tr>\n",
       "  </thead>\n",
       "  <tbody>\n",
       "    <tr>\n",
       "      <th>48</th>\n",
       "      <td>882762694511734784</td>\n",
       "      <td>4063</td>\n",
       "      <td>24600</td>\n",
       "    </tr>\n",
       "    <tr>\n",
       "      <th>191</th>\n",
       "      <td>853760880890318849</td>\n",
       "      <td>5092</td>\n",
       "      <td>25918</td>\n",
       "    </tr>\n",
       "    <tr>\n",
       "      <th>215</th>\n",
       "      <td>848324959059550208</td>\n",
       "      <td>4119</td>\n",
       "      <td>22688</td>\n",
       "    </tr>\n",
       "    <tr>\n",
       "      <th>791</th>\n",
       "      <td>771014301343748096</td>\n",
       "      <td>1530</td>\n",
       "      <td>6444</td>\n",
       "    </tr>\n",
       "    <tr>\n",
       "      <th>175</th>\n",
       "      <td>856526610513747968</td>\n",
       "      <td>1644</td>\n",
       "      <td>10771</td>\n",
       "    </tr>\n",
       "  </tbody>\n",
       "</table>\n",
       "</div>"
      ],
      "text/plain": [
       "                     id  retweet_count  favorite_count\n",
       "48   882762694511734784           4063           24600\n",
       "191  853760880890318849           5092           25918\n",
       "215  848324959059550208           4119           22688\n",
       "791  771014301343748096           1530            6444\n",
       "175  856526610513747968           1644           10771"
      ]
     },
     "execution_count": 8,
     "metadata": {},
     "output_type": "execute_result"
    }
   ],
   "source": [
    "df_counts.sample(5)"
   ]
  },
  {
   "cell_type": "code",
   "execution_count": 9,
   "id": "6ff8f37d-ae88-4edc-bf92-420c0dae94aa",
   "metadata": {},
   "outputs": [
    {
     "data": {
      "text/html": [
       "<div>\n",
       "<style scoped>\n",
       "    .dataframe tbody tr th:only-of-type {\n",
       "        vertical-align: middle;\n",
       "    }\n",
       "\n",
       "    .dataframe tbody tr th {\n",
       "        vertical-align: top;\n",
       "    }\n",
       "\n",
       "    .dataframe thead th {\n",
       "        text-align: right;\n",
       "    }\n",
       "</style>\n",
       "<table border=\"1\" class=\"dataframe\">\n",
       "  <thead>\n",
       "    <tr style=\"text-align: right;\">\n",
       "      <th></th>\n",
       "      <th>tweet_id</th>\n",
       "      <th>jpg_url</th>\n",
       "      <th>img_num</th>\n",
       "      <th>p1</th>\n",
       "      <th>p1_conf</th>\n",
       "      <th>p1_dog</th>\n",
       "      <th>p2</th>\n",
       "      <th>p2_conf</th>\n",
       "      <th>p2_dog</th>\n",
       "      <th>p3</th>\n",
       "      <th>p3_conf</th>\n",
       "      <th>p3_dog</th>\n",
       "    </tr>\n",
       "  </thead>\n",
       "  <tbody>\n",
       "    <tr>\n",
       "      <th>212</th>\n",
       "      <td>670037189829525505</td>\n",
       "      <td>https://pbs.twimg.com/media/CUxzQ-nWIAAgJUm.jpg</td>\n",
       "      <td>1</td>\n",
       "      <td>pot</td>\n",
       "      <td>0.273767</td>\n",
       "      <td>False</td>\n",
       "      <td>tray</td>\n",
       "      <td>0.092888</td>\n",
       "      <td>False</td>\n",
       "      <td>doormat</td>\n",
       "      <td>0.050728</td>\n",
       "      <td>False</td>\n",
       "    </tr>\n",
       "    <tr>\n",
       "      <th>1557</th>\n",
       "      <td>793226087023144960</td>\n",
       "      <td>https://pbs.twimg.com/media/CwIa5CjW8AErZgL.jpg</td>\n",
       "      <td>1</td>\n",
       "      <td>wire-haired_fox_terrier</td>\n",
       "      <td>0.456047</td>\n",
       "      <td>True</td>\n",
       "      <td>Lakeland_terrier</td>\n",
       "      <td>0.273428</td>\n",
       "      <td>True</td>\n",
       "      <td>English_springer</td>\n",
       "      <td>0.083643</td>\n",
       "      <td>True</td>\n",
       "    </tr>\n",
       "    <tr>\n",
       "      <th>1329</th>\n",
       "      <td>757596066325864448</td>\n",
       "      <td>https://pbs.twimg.com/media/CoOFmk3WEAAG6ql.jpg</td>\n",
       "      <td>1</td>\n",
       "      <td>doormat</td>\n",
       "      <td>0.845256</td>\n",
       "      <td>False</td>\n",
       "      <td>wallet</td>\n",
       "      <td>0.095718</td>\n",
       "      <td>False</td>\n",
       "      <td>wool</td>\n",
       "      <td>0.026072</td>\n",
       "      <td>False</td>\n",
       "    </tr>\n",
       "    <tr>\n",
       "      <th>1775</th>\n",
       "      <td>828372645993398273</td>\n",
       "      <td>https://pbs.twimg.com/media/C374hb0WQAAIbQ-.jpg</td>\n",
       "      <td>1</td>\n",
       "      <td>malamute</td>\n",
       "      <td>0.663047</td>\n",
       "      <td>True</td>\n",
       "      <td>Eskimo_dog</td>\n",
       "      <td>0.207779</td>\n",
       "      <td>True</td>\n",
       "      <td>Tibetan_mastiff</td>\n",
       "      <td>0.040949</td>\n",
       "      <td>True</td>\n",
       "    </tr>\n",
       "    <tr>\n",
       "      <th>1296</th>\n",
       "      <td>752173152931807232</td>\n",
       "      <td>https://pbs.twimg.com/media/CnBBfNuWcAAkOgO.jpg</td>\n",
       "      <td>1</td>\n",
       "      <td>Labrador_retriever</td>\n",
       "      <td>0.527659</td>\n",
       "      <td>True</td>\n",
       "      <td>German_shepherd</td>\n",
       "      <td>0.174765</td>\n",
       "      <td>True</td>\n",
       "      <td>Chihuahua</td>\n",
       "      <td>0.045525</td>\n",
       "      <td>True</td>\n",
       "    </tr>\n",
       "  </tbody>\n",
       "</table>\n",
       "</div>"
      ],
      "text/plain": [
       "                tweet_id                                          jpg_url  \\\n",
       "212   670037189829525505  https://pbs.twimg.com/media/CUxzQ-nWIAAgJUm.jpg   \n",
       "1557  793226087023144960  https://pbs.twimg.com/media/CwIa5CjW8AErZgL.jpg   \n",
       "1329  757596066325864448  https://pbs.twimg.com/media/CoOFmk3WEAAG6ql.jpg   \n",
       "1775  828372645993398273  https://pbs.twimg.com/media/C374hb0WQAAIbQ-.jpg   \n",
       "1296  752173152931807232  https://pbs.twimg.com/media/CnBBfNuWcAAkOgO.jpg   \n",
       "\n",
       "      img_num                       p1   p1_conf  p1_dog                p2  \\\n",
       "212         1                      pot  0.273767   False              tray   \n",
       "1557        1  wire-haired_fox_terrier  0.456047    True  Lakeland_terrier   \n",
       "1329        1                  doormat  0.845256   False            wallet   \n",
       "1775        1                 malamute  0.663047    True        Eskimo_dog   \n",
       "1296        1       Labrador_retriever  0.527659    True   German_shepherd   \n",
       "\n",
       "       p2_conf  p2_dog                p3   p3_conf  p3_dog  \n",
       "212   0.092888   False           doormat  0.050728   False  \n",
       "1557  0.273428    True  English_springer  0.083643    True  \n",
       "1329  0.095718   False              wool  0.026072   False  \n",
       "1775  0.207779    True   Tibetan_mastiff  0.040949    True  \n",
       "1296  0.174765    True         Chihuahua  0.045525    True  "
      ]
     },
     "execution_count": 9,
     "metadata": {},
     "output_type": "execute_result"
    }
   ],
   "source": [
    "df_images.sample(5)"
   ]
  },
  {
   "cell_type": "code",
   "execution_count": 10,
   "id": "86973121-4bc7-4bc8-8de8-4c588814ff7f",
   "metadata": {},
   "outputs": [
    {
     "data": {
      "text/plain": [
       "golden_retriever      150\n",
       "Labrador_retriever    100\n",
       "Pembroke               89\n",
       "Chihuahua              83\n",
       "pug                    57\n",
       "chow                   44\n",
       "Samoyed                43\n",
       "toy_poodle             39\n",
       "Pomeranian             38\n",
       "cocker_spaniel         30\n",
       "malamute               30\n",
       "Name: p1, dtype: int64"
      ]
     },
     "execution_count": 10,
     "metadata": {},
     "output_type": "execute_result"
    }
   ],
   "source": [
    "df_images['p1'].value_counts()[:11]"
   ]
  },
  {
   "cell_type": "code",
   "execution_count": 11,
   "id": "696eb4d7-9a56-465c-b0de-5f5ae5dd478f",
   "metadata": {},
   "outputs": [
    {
     "data": {
      "text/html": [
       "<div>\n",
       "<style scoped>\n",
       "    .dataframe tbody tr th:only-of-type {\n",
       "        vertical-align: middle;\n",
       "    }\n",
       "\n",
       "    .dataframe tbody tr th {\n",
       "        vertical-align: top;\n",
       "    }\n",
       "\n",
       "    .dataframe thead th {\n",
       "        text-align: right;\n",
       "    }\n",
       "</style>\n",
       "<table border=\"1\" class=\"dataframe\">\n",
       "  <thead>\n",
       "    <tr style=\"text-align: right;\">\n",
       "      <th></th>\n",
       "      <th>tweet_id</th>\n",
       "      <th>in_reply_to_status_id</th>\n",
       "      <th>in_reply_to_user_id</th>\n",
       "      <th>timestamp</th>\n",
       "      <th>source</th>\n",
       "      <th>text</th>\n",
       "      <th>retweeted_status_id</th>\n",
       "      <th>retweeted_status_user_id</th>\n",
       "      <th>retweeted_status_timestamp</th>\n",
       "      <th>expanded_urls</th>\n",
       "      <th>rating_numerator</th>\n",
       "      <th>rating_denominator</th>\n",
       "      <th>name</th>\n",
       "      <th>doggo</th>\n",
       "      <th>floofer</th>\n",
       "      <th>pupper</th>\n",
       "      <th>puppo</th>\n",
       "    </tr>\n",
       "  </thead>\n",
       "  <tbody>\n",
       "    <tr>\n",
       "      <th>173</th>\n",
       "      <td>858471635011153920</td>\n",
       "      <td>NaN</td>\n",
       "      <td>NaN</td>\n",
       "      <td>2017-04-30 00:02:42 +0000</td>\n",
       "      <td>&lt;a href=\"http://twitter.com/download/iphone\" r...</td>\n",
       "      <td>This is Sophie. She just arrived. Used paworit...</td>\n",
       "      <td>NaN</td>\n",
       "      <td>NaN</td>\n",
       "      <td>NaN</td>\n",
       "      <td>https://twitter.com/dog_rates/status/858471635...</td>\n",
       "      <td>13</td>\n",
       "      <td>10</td>\n",
       "      <td>Sophie</td>\n",
       "      <td>None</td>\n",
       "      <td>None</td>\n",
       "      <td>None</td>\n",
       "      <td>None</td>\n",
       "    </tr>\n",
       "    <tr>\n",
       "      <th>686</th>\n",
       "      <td>788070120937619456</td>\n",
       "      <td>NaN</td>\n",
       "      <td>NaN</td>\n",
       "      <td>2016-10-17 17:32:13 +0000</td>\n",
       "      <td>&lt;a href=\"http://twitter.com/download/iphone\" r...</td>\n",
       "      <td>RT @dog_rates: This is Bo and Ty. Bo eats pape...</td>\n",
       "      <td>7.610045e+17</td>\n",
       "      <td>4.196984e+09</td>\n",
       "      <td>2016-08-04 01:03:17 +0000</td>\n",
       "      <td>https://twitter.com/dog_rates/status/761004547...</td>\n",
       "      <td>11</td>\n",
       "      <td>10</td>\n",
       "      <td>Bo</td>\n",
       "      <td>None</td>\n",
       "      <td>None</td>\n",
       "      <td>None</td>\n",
       "      <td>None</td>\n",
       "    </tr>\n",
       "    <tr>\n",
       "      <th>774</th>\n",
       "      <td>776218204058357768</td>\n",
       "      <td>NaN</td>\n",
       "      <td>NaN</td>\n",
       "      <td>2016-09-15 00:36:55 +0000</td>\n",
       "      <td>&lt;a href=\"http://twitter.com/download/iphone\" r...</td>\n",
       "      <td>Atlas rolled around in some chalk and now he's...</td>\n",
       "      <td>NaN</td>\n",
       "      <td>NaN</td>\n",
       "      <td>NaN</td>\n",
       "      <td>https://twitter.com/dog_rates/status/776218204...</td>\n",
       "      <td>13</td>\n",
       "      <td>10</td>\n",
       "      <td>None</td>\n",
       "      <td>None</td>\n",
       "      <td>floofer</td>\n",
       "      <td>None</td>\n",
       "      <td>None</td>\n",
       "    </tr>\n",
       "    <tr>\n",
       "      <th>1749</th>\n",
       "      <td>679047485189439488</td>\n",
       "      <td>NaN</td>\n",
       "      <td>NaN</td>\n",
       "      <td>2015-12-21 21:15:11 +0000</td>\n",
       "      <td>&lt;a href=\"http://twitter.com/download/iphone\" r...</td>\n",
       "      <td>This dog doesn't know how to stairs. Quite tra...</td>\n",
       "      <td>NaN</td>\n",
       "      <td>NaN</td>\n",
       "      <td>NaN</td>\n",
       "      <td>https://twitter.com/dog_rates/status/679047485...</td>\n",
       "      <td>9</td>\n",
       "      <td>10</td>\n",
       "      <td>None</td>\n",
       "      <td>None</td>\n",
       "      <td>None</td>\n",
       "      <td>None</td>\n",
       "      <td>None</td>\n",
       "    </tr>\n",
       "    <tr>\n",
       "      <th>1745</th>\n",
       "      <td>679148763231985668</td>\n",
       "      <td>NaN</td>\n",
       "      <td>NaN</td>\n",
       "      <td>2015-12-22 03:57:37 +0000</td>\n",
       "      <td>&lt;a href=\"http://twitter.com/download/iphone\" r...</td>\n",
       "      <td>I know everyone's excited for Christmas but th...</td>\n",
       "      <td>NaN</td>\n",
       "      <td>NaN</td>\n",
       "      <td>NaN</td>\n",
       "      <td>https://twitter.com/dog_rates/status/679148763...</td>\n",
       "      <td>8</td>\n",
       "      <td>10</td>\n",
       "      <td>None</td>\n",
       "      <td>None</td>\n",
       "      <td>None</td>\n",
       "      <td>None</td>\n",
       "      <td>None</td>\n",
       "    </tr>\n",
       "  </tbody>\n",
       "</table>\n",
       "</div>"
      ],
      "text/plain": [
       "                tweet_id  in_reply_to_status_id  in_reply_to_user_id  \\\n",
       "173   858471635011153920                    NaN                  NaN   \n",
       "686   788070120937619456                    NaN                  NaN   \n",
       "774   776218204058357768                    NaN                  NaN   \n",
       "1749  679047485189439488                    NaN                  NaN   \n",
       "1745  679148763231985668                    NaN                  NaN   \n",
       "\n",
       "                      timestamp  \\\n",
       "173   2017-04-30 00:02:42 +0000   \n",
       "686   2016-10-17 17:32:13 +0000   \n",
       "774   2016-09-15 00:36:55 +0000   \n",
       "1749  2015-12-21 21:15:11 +0000   \n",
       "1745  2015-12-22 03:57:37 +0000   \n",
       "\n",
       "                                                 source  \\\n",
       "173   <a href=\"http://twitter.com/download/iphone\" r...   \n",
       "686   <a href=\"http://twitter.com/download/iphone\" r...   \n",
       "774   <a href=\"http://twitter.com/download/iphone\" r...   \n",
       "1749  <a href=\"http://twitter.com/download/iphone\" r...   \n",
       "1745  <a href=\"http://twitter.com/download/iphone\" r...   \n",
       "\n",
       "                                                   text  retweeted_status_id  \\\n",
       "173   This is Sophie. She just arrived. Used paworit...                  NaN   \n",
       "686   RT @dog_rates: This is Bo and Ty. Bo eats pape...         7.610045e+17   \n",
       "774   Atlas rolled around in some chalk and now he's...                  NaN   \n",
       "1749  This dog doesn't know how to stairs. Quite tra...                  NaN   \n",
       "1745  I know everyone's excited for Christmas but th...                  NaN   \n",
       "\n",
       "      retweeted_status_user_id retweeted_status_timestamp  \\\n",
       "173                        NaN                        NaN   \n",
       "686               4.196984e+09  2016-08-04 01:03:17 +0000   \n",
       "774                        NaN                        NaN   \n",
       "1749                       NaN                        NaN   \n",
       "1745                       NaN                        NaN   \n",
       "\n",
       "                                          expanded_urls  rating_numerator  \\\n",
       "173   https://twitter.com/dog_rates/status/858471635...                13   \n",
       "686   https://twitter.com/dog_rates/status/761004547...                11   \n",
       "774   https://twitter.com/dog_rates/status/776218204...                13   \n",
       "1749  https://twitter.com/dog_rates/status/679047485...                 9   \n",
       "1745  https://twitter.com/dog_rates/status/679148763...                 8   \n",
       "\n",
       "      rating_denominator    name doggo  floofer pupper puppo  \n",
       "173                   10  Sophie  None     None   None  None  \n",
       "686                   10      Bo  None     None   None  None  \n",
       "774                   10    None  None  floofer   None  None  \n",
       "1749                  10    None  None     None   None  None  \n",
       "1745                  10    None  None     None   None  None  "
      ]
     },
     "execution_count": 11,
     "metadata": {},
     "output_type": "execute_result"
    }
   ],
   "source": [
    "df_archive.sample(5)"
   ]
  },
  {
   "cell_type": "code",
   "execution_count": 12,
   "id": "fb63c163-d86d-498a-bc72-ac8f539eec7d",
   "metadata": {},
   "outputs": [
    {
     "name": "stdout",
     "output_type": "stream",
     "text": [
      "<class 'pandas.core.frame.DataFrame'>\n",
      "RangeIndex: 872 entries, 0 to 871\n",
      "Data columns (total 3 columns):\n",
      " #   Column          Non-Null Count  Dtype\n",
      "---  ------          --------------  -----\n",
      " 0   id              872 non-null    int64\n",
      " 1   retweet_count   872 non-null    int64\n",
      " 2   favorite_count  872 non-null    int64\n",
      "dtypes: int64(3)\n",
      "memory usage: 20.6 KB\n"
     ]
    }
   ],
   "source": [
    "df_counts.info()"
   ]
  },
  {
   "cell_type": "code",
   "execution_count": 13,
   "id": "57dc71e1-2b61-4819-8400-127ebfa26e84",
   "metadata": {},
   "outputs": [
    {
     "name": "stdout",
     "output_type": "stream",
     "text": [
      "<class 'pandas.core.frame.DataFrame'>\n",
      "RangeIndex: 2075 entries, 0 to 2074\n",
      "Data columns (total 12 columns):\n",
      " #   Column    Non-Null Count  Dtype  \n",
      "---  ------    --------------  -----  \n",
      " 0   tweet_id  2075 non-null   int64  \n",
      " 1   jpg_url   2075 non-null   object \n",
      " 2   img_num   2075 non-null   int64  \n",
      " 3   p1        2075 non-null   object \n",
      " 4   p1_conf   2075 non-null   float64\n",
      " 5   p1_dog    2075 non-null   bool   \n",
      " 6   p2        2075 non-null   object \n",
      " 7   p2_conf   2075 non-null   float64\n",
      " 8   p2_dog    2075 non-null   bool   \n",
      " 9   p3        2075 non-null   object \n",
      " 10  p3_conf   2075 non-null   float64\n",
      " 11  p3_dog    2075 non-null   bool   \n",
      "dtypes: bool(3), float64(3), int64(2), object(4)\n",
      "memory usage: 152.1+ KB\n"
     ]
    }
   ],
   "source": [
    "df_images.info()"
   ]
  },
  {
   "cell_type": "code",
   "execution_count": 14,
   "id": "dfb51e38-a74d-4197-9744-b04189c4c993",
   "metadata": {},
   "outputs": [
    {
     "name": "stdout",
     "output_type": "stream",
     "text": [
      "<class 'pandas.core.frame.DataFrame'>\n",
      "RangeIndex: 2356 entries, 0 to 2355\n",
      "Data columns (total 17 columns):\n",
      " #   Column                      Non-Null Count  Dtype  \n",
      "---  ------                      --------------  -----  \n",
      " 0   tweet_id                    2356 non-null   int64  \n",
      " 1   in_reply_to_status_id       78 non-null     float64\n",
      " 2   in_reply_to_user_id         78 non-null     float64\n",
      " 3   timestamp                   2356 non-null   object \n",
      " 4   source                      2356 non-null   object \n",
      " 5   text                        2356 non-null   object \n",
      " 6   retweeted_status_id         181 non-null    float64\n",
      " 7   retweeted_status_user_id    181 non-null    float64\n",
      " 8   retweeted_status_timestamp  181 non-null    object \n",
      " 9   expanded_urls               2297 non-null   object \n",
      " 10  rating_numerator            2356 non-null   int64  \n",
      " 11  rating_denominator          2356 non-null   int64  \n",
      " 12  name                        2356 non-null   object \n",
      " 13  doggo                       2356 non-null   object \n",
      " 14  floofer                     2356 non-null   object \n",
      " 15  pupper                      2356 non-null   object \n",
      " 16  puppo                       2356 non-null   object \n",
      "dtypes: float64(4), int64(3), object(10)\n",
      "memory usage: 313.0+ KB\n"
     ]
    }
   ],
   "source": [
    "df_archive.info()"
   ]
  },
  {
   "cell_type": "code",
   "execution_count": 15,
   "id": "084d8586-9af3-46a2-9a5b-fda55ff10ee3",
   "metadata": {},
   "outputs": [
    {
     "data": {
      "text/html": [
       "<div>\n",
       "<style scoped>\n",
       "    .dataframe tbody tr th:only-of-type {\n",
       "        vertical-align: middle;\n",
       "    }\n",
       "\n",
       "    .dataframe tbody tr th {\n",
       "        vertical-align: top;\n",
       "    }\n",
       "\n",
       "    .dataframe thead th {\n",
       "        text-align: right;\n",
       "    }\n",
       "</style>\n",
       "<table border=\"1\" class=\"dataframe\">\n",
       "  <thead>\n",
       "    <tr style=\"text-align: right;\">\n",
       "      <th></th>\n",
       "      <th>id</th>\n",
       "      <th>retweet_count</th>\n",
       "      <th>favorite_count</th>\n",
       "    </tr>\n",
       "  </thead>\n",
       "  <tbody>\n",
       "    <tr>\n",
       "      <th>count</th>\n",
       "      <td>8.720000e+02</td>\n",
       "      <td>872.000000</td>\n",
       "      <td>872.000000</td>\n",
       "    </tr>\n",
       "    <tr>\n",
       "      <th>mean</th>\n",
       "      <td>8.200722e+17</td>\n",
       "      <td>4319.292431</td>\n",
       "      <td>12914.899083</td>\n",
       "    </tr>\n",
       "    <tr>\n",
       "      <th>std</th>\n",
       "      <td>3.684925e+16</td>\n",
       "      <td>4856.793663</td>\n",
       "      <td>13506.750448</td>\n",
       "    </tr>\n",
       "    <tr>\n",
       "      <th>min</th>\n",
       "      <td>7.588287e+17</td>\n",
       "      <td>1.000000</td>\n",
       "      <td>0.000000</td>\n",
       "    </tr>\n",
       "    <tr>\n",
       "      <th>25%</th>\n",
       "      <td>7.895822e+17</td>\n",
       "      <td>1795.000000</td>\n",
       "      <td>4986.250000</td>\n",
       "    </tr>\n",
       "    <tr>\n",
       "      <th>50%</th>\n",
       "      <td>8.184220e+17</td>\n",
       "      <td>2952.000000</td>\n",
       "      <td>9850.500000</td>\n",
       "    </tr>\n",
       "    <tr>\n",
       "      <th>75%</th>\n",
       "      <td>8.480372e+17</td>\n",
       "      <td>5053.250000</td>\n",
       "      <td>18167.500000</td>\n",
       "    </tr>\n",
       "    <tr>\n",
       "      <th>max</th>\n",
       "      <td>8.924206e+17</td>\n",
       "      <td>51195.000000</td>\n",
       "      <td>123125.000000</td>\n",
       "    </tr>\n",
       "  </tbody>\n",
       "</table>\n",
       "</div>"
      ],
      "text/plain": [
       "                 id  retweet_count  favorite_count\n",
       "count  8.720000e+02     872.000000      872.000000\n",
       "mean   8.200722e+17    4319.292431    12914.899083\n",
       "std    3.684925e+16    4856.793663    13506.750448\n",
       "min    7.588287e+17       1.000000        0.000000\n",
       "25%    7.895822e+17    1795.000000     4986.250000\n",
       "50%    8.184220e+17    2952.000000     9850.500000\n",
       "75%    8.480372e+17    5053.250000    18167.500000\n",
       "max    8.924206e+17   51195.000000   123125.000000"
      ]
     },
     "execution_count": 15,
     "metadata": {},
     "output_type": "execute_result"
    }
   ],
   "source": [
    "df_counts.describe()"
   ]
  },
  {
   "cell_type": "code",
   "execution_count": 16,
   "id": "3bdd02af-b7d1-44af-a631-c8dc7b13d1f5",
   "metadata": {},
   "outputs": [
    {
     "data": {
      "text/html": [
       "<div>\n",
       "<style scoped>\n",
       "    .dataframe tbody tr th:only-of-type {\n",
       "        vertical-align: middle;\n",
       "    }\n",
       "\n",
       "    .dataframe tbody tr th {\n",
       "        vertical-align: top;\n",
       "    }\n",
       "\n",
       "    .dataframe thead th {\n",
       "        text-align: right;\n",
       "    }\n",
       "</style>\n",
       "<table border=\"1\" class=\"dataframe\">\n",
       "  <thead>\n",
       "    <tr style=\"text-align: right;\">\n",
       "      <th></th>\n",
       "      <th>tweet_id</th>\n",
       "      <th>img_num</th>\n",
       "      <th>p1_conf</th>\n",
       "      <th>p2_conf</th>\n",
       "      <th>p3_conf</th>\n",
       "    </tr>\n",
       "  </thead>\n",
       "  <tbody>\n",
       "    <tr>\n",
       "      <th>count</th>\n",
       "      <td>2.075000e+03</td>\n",
       "      <td>2075.000000</td>\n",
       "      <td>2075.000000</td>\n",
       "      <td>2.075000e+03</td>\n",
       "      <td>2.075000e+03</td>\n",
       "    </tr>\n",
       "    <tr>\n",
       "      <th>mean</th>\n",
       "      <td>7.384514e+17</td>\n",
       "      <td>1.203855</td>\n",
       "      <td>0.594548</td>\n",
       "      <td>1.345886e-01</td>\n",
       "      <td>6.032417e-02</td>\n",
       "    </tr>\n",
       "    <tr>\n",
       "      <th>std</th>\n",
       "      <td>6.785203e+16</td>\n",
       "      <td>0.561875</td>\n",
       "      <td>0.271174</td>\n",
       "      <td>1.006657e-01</td>\n",
       "      <td>5.090593e-02</td>\n",
       "    </tr>\n",
       "    <tr>\n",
       "      <th>min</th>\n",
       "      <td>6.660209e+17</td>\n",
       "      <td>1.000000</td>\n",
       "      <td>0.044333</td>\n",
       "      <td>1.011300e-08</td>\n",
       "      <td>1.740170e-10</td>\n",
       "    </tr>\n",
       "    <tr>\n",
       "      <th>25%</th>\n",
       "      <td>6.764835e+17</td>\n",
       "      <td>1.000000</td>\n",
       "      <td>0.364412</td>\n",
       "      <td>5.388625e-02</td>\n",
       "      <td>1.622240e-02</td>\n",
       "    </tr>\n",
       "    <tr>\n",
       "      <th>50%</th>\n",
       "      <td>7.119988e+17</td>\n",
       "      <td>1.000000</td>\n",
       "      <td>0.588230</td>\n",
       "      <td>1.181810e-01</td>\n",
       "      <td>4.944380e-02</td>\n",
       "    </tr>\n",
       "    <tr>\n",
       "      <th>75%</th>\n",
       "      <td>7.932034e+17</td>\n",
       "      <td>1.000000</td>\n",
       "      <td>0.843855</td>\n",
       "      <td>1.955655e-01</td>\n",
       "      <td>9.180755e-02</td>\n",
       "    </tr>\n",
       "    <tr>\n",
       "      <th>max</th>\n",
       "      <td>8.924206e+17</td>\n",
       "      <td>4.000000</td>\n",
       "      <td>1.000000</td>\n",
       "      <td>4.880140e-01</td>\n",
       "      <td>2.734190e-01</td>\n",
       "    </tr>\n",
       "  </tbody>\n",
       "</table>\n",
       "</div>"
      ],
      "text/plain": [
       "           tweet_id      img_num      p1_conf       p2_conf       p3_conf\n",
       "count  2.075000e+03  2075.000000  2075.000000  2.075000e+03  2.075000e+03\n",
       "mean   7.384514e+17     1.203855     0.594548  1.345886e-01  6.032417e-02\n",
       "std    6.785203e+16     0.561875     0.271174  1.006657e-01  5.090593e-02\n",
       "min    6.660209e+17     1.000000     0.044333  1.011300e-08  1.740170e-10\n",
       "25%    6.764835e+17     1.000000     0.364412  5.388625e-02  1.622240e-02\n",
       "50%    7.119988e+17     1.000000     0.588230  1.181810e-01  4.944380e-02\n",
       "75%    7.932034e+17     1.000000     0.843855  1.955655e-01  9.180755e-02\n",
       "max    8.924206e+17     4.000000     1.000000  4.880140e-01  2.734190e-01"
      ]
     },
     "execution_count": 16,
     "metadata": {},
     "output_type": "execute_result"
    }
   ],
   "source": [
    "df_images.describe()"
   ]
  },
  {
   "cell_type": "code",
   "execution_count": 17,
   "id": "493e47f1-d1c5-40a2-a0cd-c0f1d04613b0",
   "metadata": {},
   "outputs": [
    {
     "data": {
      "text/html": [
       "<div>\n",
       "<style scoped>\n",
       "    .dataframe tbody tr th:only-of-type {\n",
       "        vertical-align: middle;\n",
       "    }\n",
       "\n",
       "    .dataframe tbody tr th {\n",
       "        vertical-align: top;\n",
       "    }\n",
       "\n",
       "    .dataframe thead th {\n",
       "        text-align: right;\n",
       "    }\n",
       "</style>\n",
       "<table border=\"1\" class=\"dataframe\">\n",
       "  <thead>\n",
       "    <tr style=\"text-align: right;\">\n",
       "      <th></th>\n",
       "      <th>tweet_id</th>\n",
       "      <th>in_reply_to_status_id</th>\n",
       "      <th>in_reply_to_user_id</th>\n",
       "      <th>retweeted_status_id</th>\n",
       "      <th>retweeted_status_user_id</th>\n",
       "      <th>rating_numerator</th>\n",
       "      <th>rating_denominator</th>\n",
       "    </tr>\n",
       "  </thead>\n",
       "  <tbody>\n",
       "    <tr>\n",
       "      <th>count</th>\n",
       "      <td>2.356000e+03</td>\n",
       "      <td>7.800000e+01</td>\n",
       "      <td>7.800000e+01</td>\n",
       "      <td>1.810000e+02</td>\n",
       "      <td>1.810000e+02</td>\n",
       "      <td>2356.000000</td>\n",
       "      <td>2356.000000</td>\n",
       "    </tr>\n",
       "    <tr>\n",
       "      <th>mean</th>\n",
       "      <td>7.427716e+17</td>\n",
       "      <td>7.455079e+17</td>\n",
       "      <td>2.014171e+16</td>\n",
       "      <td>7.720400e+17</td>\n",
       "      <td>1.241698e+16</td>\n",
       "      <td>13.126486</td>\n",
       "      <td>10.455433</td>\n",
       "    </tr>\n",
       "    <tr>\n",
       "      <th>std</th>\n",
       "      <td>6.856705e+16</td>\n",
       "      <td>7.582492e+16</td>\n",
       "      <td>1.252797e+17</td>\n",
       "      <td>6.236928e+16</td>\n",
       "      <td>9.599254e+16</td>\n",
       "      <td>45.876648</td>\n",
       "      <td>6.745237</td>\n",
       "    </tr>\n",
       "    <tr>\n",
       "      <th>min</th>\n",
       "      <td>6.660209e+17</td>\n",
       "      <td>6.658147e+17</td>\n",
       "      <td>1.185634e+07</td>\n",
       "      <td>6.661041e+17</td>\n",
       "      <td>7.832140e+05</td>\n",
       "      <td>0.000000</td>\n",
       "      <td>0.000000</td>\n",
       "    </tr>\n",
       "    <tr>\n",
       "      <th>25%</th>\n",
       "      <td>6.783989e+17</td>\n",
       "      <td>6.757419e+17</td>\n",
       "      <td>3.086374e+08</td>\n",
       "      <td>7.186315e+17</td>\n",
       "      <td>4.196984e+09</td>\n",
       "      <td>10.000000</td>\n",
       "      <td>10.000000</td>\n",
       "    </tr>\n",
       "    <tr>\n",
       "      <th>50%</th>\n",
       "      <td>7.196279e+17</td>\n",
       "      <td>7.038708e+17</td>\n",
       "      <td>4.196984e+09</td>\n",
       "      <td>7.804657e+17</td>\n",
       "      <td>4.196984e+09</td>\n",
       "      <td>11.000000</td>\n",
       "      <td>10.000000</td>\n",
       "    </tr>\n",
       "    <tr>\n",
       "      <th>75%</th>\n",
       "      <td>7.993373e+17</td>\n",
       "      <td>8.257804e+17</td>\n",
       "      <td>4.196984e+09</td>\n",
       "      <td>8.203146e+17</td>\n",
       "      <td>4.196984e+09</td>\n",
       "      <td>12.000000</td>\n",
       "      <td>10.000000</td>\n",
       "    </tr>\n",
       "    <tr>\n",
       "      <th>max</th>\n",
       "      <td>8.924206e+17</td>\n",
       "      <td>8.862664e+17</td>\n",
       "      <td>8.405479e+17</td>\n",
       "      <td>8.874740e+17</td>\n",
       "      <td>7.874618e+17</td>\n",
       "      <td>1776.000000</td>\n",
       "      <td>170.000000</td>\n",
       "    </tr>\n",
       "  </tbody>\n",
       "</table>\n",
       "</div>"
      ],
      "text/plain": [
       "           tweet_id  in_reply_to_status_id  in_reply_to_user_id  \\\n",
       "count  2.356000e+03           7.800000e+01         7.800000e+01   \n",
       "mean   7.427716e+17           7.455079e+17         2.014171e+16   \n",
       "std    6.856705e+16           7.582492e+16         1.252797e+17   \n",
       "min    6.660209e+17           6.658147e+17         1.185634e+07   \n",
       "25%    6.783989e+17           6.757419e+17         3.086374e+08   \n",
       "50%    7.196279e+17           7.038708e+17         4.196984e+09   \n",
       "75%    7.993373e+17           8.257804e+17         4.196984e+09   \n",
       "max    8.924206e+17           8.862664e+17         8.405479e+17   \n",
       "\n",
       "       retweeted_status_id  retweeted_status_user_id  rating_numerator  \\\n",
       "count         1.810000e+02              1.810000e+02       2356.000000   \n",
       "mean          7.720400e+17              1.241698e+16         13.126486   \n",
       "std           6.236928e+16              9.599254e+16         45.876648   \n",
       "min           6.661041e+17              7.832140e+05          0.000000   \n",
       "25%           7.186315e+17              4.196984e+09         10.000000   \n",
       "50%           7.804657e+17              4.196984e+09         11.000000   \n",
       "75%           8.203146e+17              4.196984e+09         12.000000   \n",
       "max           8.874740e+17              7.874618e+17       1776.000000   \n",
       "\n",
       "       rating_denominator  \n",
       "count         2356.000000  \n",
       "mean            10.455433  \n",
       "std              6.745237  \n",
       "min              0.000000  \n",
       "25%             10.000000  \n",
       "50%             10.000000  \n",
       "75%             10.000000  \n",
       "max            170.000000  "
      ]
     },
     "execution_count": 17,
     "metadata": {},
     "output_type": "execute_result"
    }
   ],
   "source": [
    "df_archive.describe()"
   ]
  },
  {
   "cell_type": "code",
   "execution_count": 18,
   "id": "c9909621-0ebc-441c-bafb-242805fd8648",
   "metadata": {},
   "outputs": [
    {
     "data": {
      "text/plain": [
       "(872, 3)"
      ]
     },
     "execution_count": 18,
     "metadata": {},
     "output_type": "execute_result"
    }
   ],
   "source": [
    "df_counts.shape"
   ]
  },
  {
   "cell_type": "code",
   "execution_count": 19,
   "id": "6adfa24b-7e74-4304-8993-81083268ee48",
   "metadata": {},
   "outputs": [
    {
     "data": {
      "text/plain": [
       "(2075, 12)"
      ]
     },
     "execution_count": 19,
     "metadata": {},
     "output_type": "execute_result"
    }
   ],
   "source": [
    "df_images.shape"
   ]
  },
  {
   "cell_type": "code",
   "execution_count": 20,
   "id": "2010c50e-12b7-40bb-9f06-d02ff1ba1d76",
   "metadata": {},
   "outputs": [
    {
     "data": {
      "text/plain": [
       "(2356, 17)"
      ]
     },
     "execution_count": 20,
     "metadata": {},
     "output_type": "execute_result"
    }
   ],
   "source": [
    "df_archive.shape"
   ]
  },
  {
   "cell_type": "code",
   "execution_count": 21,
   "id": "2abf1562-9646-43d7-9f3e-013ee93bc74c",
   "metadata": {},
   "outputs": [
    {
     "data": {
      "text/plain": [
       "None       745\n",
       "a           55\n",
       "Charlie     12\n",
       "Cooper      11\n",
       "Lucy        11\n",
       "Oliver      11\n",
       "Tucker      10\n",
       "Penny       10\n",
       "Lola        10\n",
       "Winston      9\n",
       "Bo           9\n",
       "Name: name, dtype: int64"
      ]
     },
     "execution_count": 21,
     "metadata": {},
     "output_type": "execute_result"
    }
   ],
   "source": [
    "df_archive['name'].value_counts()[:11]"
   ]
  },
  {
   "cell_type": "code",
   "execution_count": 22,
   "id": "eb94b9ed-3032-440f-952b-1306c687ff50",
   "metadata": {
    "tags": []
   },
   "outputs": [
    {
     "data": {
      "text/plain": [
       "10     2333\n",
       "11        3\n",
       "50        3\n",
       "20        2\n",
       "80        2\n",
       "70        1\n",
       "7         1\n",
       "15        1\n",
       "150       1\n",
       "170       1\n",
       "0         1\n",
       "Name: rating_denominator, dtype: int64"
      ]
     },
     "execution_count": 22,
     "metadata": {},
     "output_type": "execute_result"
    }
   ],
   "source": [
    "df_archive['rating_denominator'].value_counts()[:11]"
   ]
  },
  {
   "cell_type": "code",
   "execution_count": 23,
   "id": "ecd5b7cb-d0f1-4291-9ad9-cffd57969226",
   "metadata": {
    "tags": []
   },
   "outputs": [
    {
     "data": {
      "text/plain": [
       "<a href=\"http://twitter.com/download/iphone\" rel=\"nofollow\">Twitter for iPhone</a>     2221\n",
       "<a href=\"http://vine.co\" rel=\"nofollow\">Vine - Make a Scene</a>                          91\n",
       "<a href=\"http://twitter.com\" rel=\"nofollow\">Twitter Web Client</a>                       33\n",
       "<a href=\"https://about.twitter.com/products/tweetdeck\" rel=\"nofollow\">TweetDeck</a>      11\n",
       "Name: source, dtype: int64"
      ]
     },
     "execution_count": 23,
     "metadata": {},
     "output_type": "execute_result"
    }
   ],
   "source": [
    "df_archive['source'].value_counts()[:4]"
   ]
  },
  {
   "cell_type": "markdown",
   "id": "b742347f-61f0-4edb-bd73-0cc76fc3135d",
   "metadata": {},
   "source": [
    "#### Quality Issues:\n",
    "\n",
    "- df_archive table: includes retweets which will need to be removed\n",
    "- df_archive table: The timestamp column is of the object data type, this should be transformed to the datetime datatype.\n",
    "- df_archive table: The puppo, doggo, flooter, & pupper columns contain many rows valued \"none\". These should be set to null.\n",
    "- df_archive table: There are many incorrect/missing values in the name column. These will need to be made null. \n",
    "- df_archive table: The source column contains href tags and will need to be cleaned up to include only the actual source i.e. 'Twitter for iPhone'.\n",
    "- df_archive table: There are several columns not needed for analysis, and should be dropped.\n",
    "- df_counts table: The \"id\" column in the df_counts df will need to be changed to match tweet_id from the other 2 dfs.\n",
    "- df_arhive table: The numerator & denominator columns can be dropped once the columns are combined.\n",
    "\n",
    "\n",
    "\n",
    "#### Tidiness Issues:\n",
    "- df_archive table: Rating numerator & denominator should be combined into 1 column\n",
    "- df_archive table: The dog stage data needs to be combined into 1 column. \n",
    "- df_archive & df_counts tables: all data frames should be combined."
   ]
  },
  {
   "cell_type": "markdown",
   "id": "ff08cfb8-6435-4d91-bca3-f85d1737d55f",
   "metadata": {},
   "source": [
    "## <h2 id=\"cleaning\"> Cleaning the Data </h2>"
   ]
  },
  {
   "cell_type": "code",
   "execution_count": 24,
   "id": "2ab531fb-2f89-46ea-80e1-0c34fe57e5e9",
   "metadata": {},
   "outputs": [],
   "source": [
    "# creates copies of dataframes/tables that will be cleaned.\n",
    "df_counts_clean = df_counts.copy()\n",
    "df_archive_clean = df_archive.copy()\n",
    "df_images_clean = df_images.copy()"
   ]
  },
  {
   "cell_type": "markdown",
   "id": "3cae7d9b-846e-4914-8c10-1871b1689770",
   "metadata": {},
   "source": [
    "### Missing Data\n",
    "\n",
    "-There are many incorrect/missing values in the name column. Many begin with lowercase letter. We will make them match the other known missing values which are labeled \"None\".\n"
   ]
  },
  {
   "cell_type": "markdown",
   "id": "9a00d8df-2a7f-4751-bf42-cca74afc6006",
   "metadata": {},
   "source": [
    "#### Define:\n",
    "Use .loc method to make names beginning with lowercase letter equal to \"None\""
   ]
  },
  {
   "cell_type": "markdown",
   "id": "619ab395-6b6e-42fe-ba25-0a9a5fe3bdc5",
   "metadata": {},
   "source": [
    "#### Code"
   ]
  },
  {
   "cell_type": "code",
   "execution_count": 25,
   "id": "9199cfca-e1f8-4ea7-80a2-44aa6bca4c05",
   "metadata": {},
   "outputs": [],
   "source": [
    "lowers = []\n",
    "\n",
    "for name in df_archive_clean['name']:\n",
    "    if name[0].islower():\n",
    "        lowers.append(name)\n",
    "\n",
    "for l in lowers:\n",
    "    df_archive_clean.loc[df_archive_clean['name'] == l, 'name'] = \"None\""
   ]
  },
  {
   "cell_type": "markdown",
   "id": "ef325015-3e68-45c9-b0e3-e34644396c93",
   "metadata": {},
   "source": [
    "#### Test"
   ]
  },
  {
   "cell_type": "code",
   "execution_count": 26,
   "id": "bbf14e55-6a85-414b-a26e-a7a2d05c6656",
   "metadata": {},
   "outputs": [
    {
     "name": "stdout",
     "output_type": "stream",
     "text": [
      "[]\n",
      "854\n"
     ]
    }
   ],
   "source": [
    "# loop below shows that all values beginning with lower case are gone. They have been changed to \"None\"\n",
    "\n",
    "lowers = []\n",
    "for name in df_archive_clean['name']:\n",
    "    if name[0].islower():\n",
    "        lowers.append(name)\n",
    "print(lowers)\n",
    "print(df_archive_clean['name'].value_counts()[0])"
   ]
  },
  {
   "cell_type": "markdown",
   "id": "74d08b9a-2acf-4fdc-b9c4-bcc43ea85995",
   "metadata": {},
   "source": [
    "#### Define:\n",
    "Use df.drop to remove retweets"
   ]
  },
  {
   "cell_type": "markdown",
   "id": "292e4cde-a295-4c7f-bae7-3a92e73e1264",
   "metadata": {},
   "source": [
    "#### Code:"
   ]
  },
  {
   "cell_type": "code",
   "execution_count": 27,
   "id": "1641d9be-ef64-45be-ba2e-59842d1fa3c3",
   "metadata": {},
   "outputs": [],
   "source": [
    "df_archive_clean.drop(df_archive_clean[df_archive_clean['retweeted_status_id'].notnull()].index, inplace = True)"
   ]
  },
  {
   "cell_type": "markdown",
   "id": "1c97a407-204e-4794-b4f2-6e8162467177",
   "metadata": {},
   "source": [
    "#### Test"
   ]
  },
  {
   "cell_type": "code",
   "execution_count": 28,
   "id": "cc00ef64-97b2-4825-82ef-f7acac1dbf40",
   "metadata": {},
   "outputs": [
    {
     "data": {
      "text/plain": [
       "Series([], Name: retweeted_status_id, dtype: int64)"
      ]
     },
     "execution_count": 28,
     "metadata": {},
     "output_type": "execute_result"
    }
   ],
   "source": [
    "# Below shows that all tweets with retweet status have been removed from the df_archived_clean table. \n",
    "\n",
    "df_archive_clean['retweeted_status_id'].value_counts()"
   ]
  },
  {
   "cell_type": "markdown",
   "id": "e61a8968-f22f-430a-b43e-548252a70637",
   "metadata": {},
   "source": [
    "#### Define:\n",
    " df_archive table: The puppo, doggo, flooter, & pupper columns contain many rows valued \"none\".\n",
    " We are going to make those values NaN. using .loc and np.nan\n"
   ]
  },
  {
   "cell_type": "markdown",
   "id": "5b8130a8-4c6f-4af4-9671-c05f8ea1181b",
   "metadata": {},
   "source": [
    "#### Code:"
   ]
  },
  {
   "cell_type": "code",
   "execution_count": 29,
   "id": "6098e543-17bf-42ed-971a-20ea8224c1b0",
   "metadata": {},
   "outputs": [],
   "source": [
    "df_archive_clean.loc[df_archive_clean['doggo'] == 'None', 'doggo'] = np.nan\n",
    "df_archive_clean.loc[df_archive_clean['floofer'] == 'None', 'floofer'] = np.nan\n",
    "df_archive_clean.loc[df_archive_clean['pupper'] == 'None', 'pupper'] = np.nan\n",
    "df_archive_clean.loc[df_archive_clean['puppo'] == 'None', 'puppo'] = np.nan"
   ]
  },
  {
   "cell_type": "markdown",
   "id": "2e73cc3e-be95-4618-bd7b-a68ffe3cc3e4",
   "metadata": {},
   "source": [
    "#### Test:"
   ]
  },
  {
   "cell_type": "code",
   "execution_count": 30,
   "id": "938433e2-8fc6-433d-b37b-609d4df45b7e",
   "metadata": {},
   "outputs": [
    {
     "name": "stdout",
     "output_type": "stream",
     "text": [
      "pupper    234\n",
      "Name: pupper, dtype: int64\n",
      "floofer    10\n",
      "Name: floofer, dtype: int64\n",
      "pupper    234\n",
      "Name: pupper, dtype: int64\n",
      "puppo    25\n",
      "Name: puppo, dtype: int64\n"
     ]
    }
   ],
   "source": [
    "# shows value counts for all columns and the None values are now NaN.\n",
    "\n",
    "print(df_archive_clean['pupper'].value_counts())\n",
    "print(df_archive_clean['floofer'].value_counts())\n",
    "print(df_archive_clean['pupper'].value_counts())\n",
    "print(df_archive_clean['puppo'].value_counts())"
   ]
  },
  {
   "cell_type": "markdown",
   "id": "4028e718-d56f-491e-bdf8-bbcd6a81a863",
   "metadata": {
    "tags": []
   },
   "source": [
    "#### Define:\n",
    "Below we will use regex imported as re to slice the source string data and return only the info we want"
   ]
  },
  {
   "cell_type": "markdown",
   "id": "bc0c78f0-8dbd-4520-ada2-63b51a887654",
   "metadata": {
    "tags": []
   },
   "source": [
    "#### Code:"
   ]
  },
  {
   "cell_type": "code",
   "execution_count": 31,
   "id": "556aad5e-a999-4e54-90c0-606c00289545",
   "metadata": {},
   "outputs": [],
   "source": [
    "import re\n",
    "\n",
    "def clean_source(source):\n",
    "    if re.search('>', source):\n",
    "        pos = re.search('>', source).end()\n",
    "        return source[pos:-4]\n",
    "\n",
    "df_archive_clean['source'] = df_archive_clean['source'].apply(clean_source)"
   ]
  },
  {
   "cell_type": "markdown",
   "id": "061bd481-d04f-4520-a6bc-aa4c0a1fff45",
   "metadata": {},
   "source": [
    "#### Test"
   ]
  },
  {
   "cell_type": "code",
   "execution_count": 32,
   "id": "77068e18-12a8-4e3b-abaf-2262de22ebaf",
   "metadata": {},
   "outputs": [
    {
     "data": {
      "text/plain": [
       "Twitter for iPhone     2042\n",
       "Vine - Make a Scene      91\n",
       "Twitter Web Client       31\n",
       "TweetDeck                11\n",
       "Name: source, dtype: int64"
      ]
     },
     "execution_count": 32,
     "metadata": {},
     "output_type": "execute_result"
    }
   ],
   "source": [
    "#Below shows the new values of the source column\n",
    "df_archive_clean['source'].value_counts()"
   ]
  },
  {
   "cell_type": "markdown",
   "id": "40b3172c-4286-4582-8605-072a9b10c122",
   "metadata": {},
   "source": [
    "#### Define\n",
    "\n",
    "df_archive table: The timestamp column is of the object data type.\n",
    "\n",
    "We will convert this column using pd.to_datetime"
   ]
  },
  {
   "cell_type": "markdown",
   "id": "29acd8af-32d4-4635-a5b9-de9630690d35",
   "metadata": {},
   "source": [
    "#### Code"
   ]
  },
  {
   "cell_type": "code",
   "execution_count": 33,
   "id": "d8a7f8d1-c621-4bae-9204-ad46f6678835",
   "metadata": {},
   "outputs": [],
   "source": [
    "#converts timestamp column to datetime\n",
    "df_archive_clean['timestamp'] = pd.to_datetime(df_archive_clean['timestamp'])"
   ]
  },
  {
   "cell_type": "markdown",
   "id": "8a024a80-7fb9-452d-8e46-153945541aa6",
   "metadata": {},
   "source": [
    "#### Test"
   ]
  },
  {
   "cell_type": "code",
   "execution_count": 34,
   "id": "f2da01fe-3b9f-43eb-a021-18e327c6692e",
   "metadata": {},
   "outputs": [
    {
     "name": "stdout",
     "output_type": "stream",
     "text": [
      "<class 'pandas.core.frame.DataFrame'>\n",
      "Int64Index: 2175 entries, 0 to 2355\n",
      "Data columns (total 17 columns):\n",
      " #   Column                      Non-Null Count  Dtype              \n",
      "---  ------                      --------------  -----              \n",
      " 0   tweet_id                    2175 non-null   int64              \n",
      " 1   in_reply_to_status_id       78 non-null     float64            \n",
      " 2   in_reply_to_user_id         78 non-null     float64            \n",
      " 3   timestamp                   2175 non-null   datetime64[ns, UTC]\n",
      " 4   source                      2175 non-null   object             \n",
      " 5   text                        2175 non-null   object             \n",
      " 6   retweeted_status_id         0 non-null      float64            \n",
      " 7   retweeted_status_user_id    0 non-null      float64            \n",
      " 8   retweeted_status_timestamp  0 non-null      object             \n",
      " 9   expanded_urls               2117 non-null   object             \n",
      " 10  rating_numerator            2175 non-null   int64              \n",
      " 11  rating_denominator          2175 non-null   int64              \n",
      " 12  name                        2175 non-null   object             \n",
      " 13  doggo                       87 non-null     object             \n",
      " 14  floofer                     10 non-null     object             \n",
      " 15  pupper                      234 non-null    object             \n",
      " 16  puppo                       25 non-null     object             \n",
      "dtypes: datetime64[ns, UTC](1), float64(4), int64(3), object(9)\n",
      "memory usage: 305.9+ KB\n"
     ]
    }
   ],
   "source": [
    "# timestamp column is shown as datetime data type below\n",
    "df_archive_clean.info()"
   ]
  },
  {
   "cell_type": "markdown",
   "id": "99f88326-f8ac-4c3b-9b9c-b464e4e9b25a",
   "metadata": {},
   "source": [
    "#### Define\n",
    "\n",
    "- df_archive table: we will use .drop to remove all unneeded columns\n"
   ]
  },
  {
   "cell_type": "markdown",
   "id": "471206da-dcf9-4e2f-ba1e-a756b9dc8358",
   "metadata": {},
   "source": [
    "#### Code"
   ]
  },
  {
   "cell_type": "code",
   "execution_count": 35,
   "id": "f6fa4f9e-bc65-457a-8f1c-f03df091fa42",
   "metadata": {},
   "outputs": [],
   "source": [
    "df_archive_clean.drop(columns = ['retweeted_status_id','retweeted_status_user_id','retweeted_status_timestamp','in_reply_to_status_id','in_reply_to_user_id','expanded_urls'], axis = 1, inplace = True)"
   ]
  },
  {
   "cell_type": "markdown",
   "id": "5abb9aa2-1e5a-4366-b850-1f16fd0eb8f3",
   "metadata": {},
   "source": [
    "#### Test"
   ]
  },
  {
   "cell_type": "code",
   "execution_count": 36,
   "id": "bd477cf9-fdcc-4cc2-bdf0-52672fb692e4",
   "metadata": {},
   "outputs": [
    {
     "name": "stdout",
     "output_type": "stream",
     "text": [
      "<class 'pandas.core.frame.DataFrame'>\n",
      "Int64Index: 2175 entries, 0 to 2355\n",
      "Data columns (total 11 columns):\n",
      " #   Column              Non-Null Count  Dtype              \n",
      "---  ------              --------------  -----              \n",
      " 0   tweet_id            2175 non-null   int64              \n",
      " 1   timestamp           2175 non-null   datetime64[ns, UTC]\n",
      " 2   source              2175 non-null   object             \n",
      " 3   text                2175 non-null   object             \n",
      " 4   rating_numerator    2175 non-null   int64              \n",
      " 5   rating_denominator  2175 non-null   int64              \n",
      " 6   name                2175 non-null   object             \n",
      " 7   doggo               87 non-null     object             \n",
      " 8   floofer             10 non-null     object             \n",
      " 9   pupper              234 non-null    object             \n",
      " 10  puppo               25 non-null     object             \n",
      "dtypes: datetime64[ns, UTC](1), int64(3), object(7)\n",
      "memory usage: 203.9+ KB\n"
     ]
    }
   ],
   "source": [
    "df_archive_clean.info()"
   ]
  },
  {
   "cell_type": "markdown",
   "id": "21f4309b-a5c4-4586-b47a-b19c48bf5a65",
   "metadata": {},
   "source": [
    "#### Define\n",
    "\n",
    "The dog stages are in seperate columns and should be combined to form 1 column. "
   ]
  },
  {
   "cell_type": "markdown",
   "id": "3f91478d-a039-4569-9fd4-b9632210ed25",
   "metadata": {
    "tags": []
   },
   "source": [
    "#### Code"
   ]
  },
  {
   "cell_type": "code",
   "execution_count": 37,
   "id": "61c66d87-f670-4697-a2f3-c94cd7deacaa",
   "metadata": {},
   "outputs": [],
   "source": [
    "df_archive_clean['stage'] = df_archive_clean['doggo'].astype(str) + df_archive_clean['floofer'].astype(str) + df_archive_clean['pupper'].astype(str) + df_archive_clean['puppo'].astype(str)"
   ]
  },
  {
   "cell_type": "code",
   "execution_count": 38,
   "id": "5691f934-bd7a-4af4-be1b-9c0b7d72a6f6",
   "metadata": {},
   "outputs": [
    {
     "data": {
      "text/plain": [
       "nannannannan          1831\n",
       "nannanpuppernan        224\n",
       "doggonannannan          75\n",
       "nannannanpuppo          24\n",
       "doggonanpuppernan       10\n",
       "nanfloofernannan         9\n",
       "doggonannanpuppo         1\n",
       "doggofloofernannan       1\n",
       "Name: stage, dtype: int64"
      ]
     },
     "execution_count": 38,
     "metadata": {},
     "output_type": "execute_result"
    }
   ],
   "source": [
    "df_archive_clean['stage'].value_counts()"
   ]
  },
  {
   "cell_type": "code",
   "execution_count": 39,
   "id": "34b407a5-353a-4e8c-9284-12220db99b7f",
   "metadata": {},
   "outputs": [],
   "source": [
    "df_archive_clean.loc[df_archive_clean.stage == 'nannanpuppernan', 'stage'] = 'pupper' \n",
    "df_archive_clean.loc[df_archive_clean.stage == 'nannannannan', 'stage'] = np.nan\n",
    "df_archive_clean.loc[df_archive_clean.stage == 'doggonannannan', 'stage'] = 'doggo'\n",
    "df_archive_clean.loc[df_archive_clean.stage == 'nannannanpuppo', 'stage'] = 'puppo'\n",
    "df_archive_clean.loc[df_archive_clean.stage == 'doggonanpuppernan', 'stage'] = 'doggo,puppo'\n",
    "df_archive_clean.loc[df_archive_clean.stage == 'nanfloofernannan', 'stage'] = 'floofer'\n",
    "df_archive_clean.loc[df_archive_clean.stage == 'nanfloofernannan', 'stage'] = 'floofer'\n",
    "df_archive_clean.loc[df_archive_clean.stage == 'doggonannanpuppo', 'stage'] = 'doggo,puppo'\n",
    "df_archive_clean.loc[df_archive_clean.stage == 'doggofloofernannan', 'stage'] = 'doggo,floofer'"
   ]
  },
  {
   "cell_type": "code",
   "execution_count": 40,
   "id": "87bada6c-b3dc-4328-8acb-58f7542f59f6",
   "metadata": {},
   "outputs": [
    {
     "data": {
      "text/html": [
       "<div>\n",
       "<style scoped>\n",
       "    .dataframe tbody tr th:only-of-type {\n",
       "        vertical-align: middle;\n",
       "    }\n",
       "\n",
       "    .dataframe tbody tr th {\n",
       "        vertical-align: top;\n",
       "    }\n",
       "\n",
       "    .dataframe thead th {\n",
       "        text-align: right;\n",
       "    }\n",
       "</style>\n",
       "<table border=\"1\" class=\"dataframe\">\n",
       "  <thead>\n",
       "    <tr style=\"text-align: right;\">\n",
       "      <th></th>\n",
       "      <th>tweet_id</th>\n",
       "      <th>timestamp</th>\n",
       "      <th>source</th>\n",
       "      <th>text</th>\n",
       "      <th>rating_numerator</th>\n",
       "      <th>rating_denominator</th>\n",
       "      <th>name</th>\n",
       "      <th>doggo</th>\n",
       "      <th>floofer</th>\n",
       "      <th>pupper</th>\n",
       "      <th>puppo</th>\n",
       "      <th>stage</th>\n",
       "    </tr>\n",
       "  </thead>\n",
       "  <tbody>\n",
       "    <tr>\n",
       "      <th>0</th>\n",
       "      <td>892420643555336193</td>\n",
       "      <td>2017-08-01 16:23:56+00:00</td>\n",
       "      <td>Twitter for iPhone</td>\n",
       "      <td>This is Phineas. He's a mystical boy. Only eve...</td>\n",
       "      <td>13</td>\n",
       "      <td>10</td>\n",
       "      <td>Phineas</td>\n",
       "      <td>NaN</td>\n",
       "      <td>NaN</td>\n",
       "      <td>NaN</td>\n",
       "      <td>NaN</td>\n",
       "      <td>NaN</td>\n",
       "    </tr>\n",
       "    <tr>\n",
       "      <th>1</th>\n",
       "      <td>892177421306343426</td>\n",
       "      <td>2017-08-01 00:17:27+00:00</td>\n",
       "      <td>Twitter for iPhone</td>\n",
       "      <td>This is Tilly. She's just checking pup on you....</td>\n",
       "      <td>13</td>\n",
       "      <td>10</td>\n",
       "      <td>Tilly</td>\n",
       "      <td>NaN</td>\n",
       "      <td>NaN</td>\n",
       "      <td>NaN</td>\n",
       "      <td>NaN</td>\n",
       "      <td>NaN</td>\n",
       "    </tr>\n",
       "    <tr>\n",
       "      <th>2</th>\n",
       "      <td>891815181378084864</td>\n",
       "      <td>2017-07-31 00:18:03+00:00</td>\n",
       "      <td>Twitter for iPhone</td>\n",
       "      <td>This is Archie. He is a rare Norwegian Pouncin...</td>\n",
       "      <td>12</td>\n",
       "      <td>10</td>\n",
       "      <td>Archie</td>\n",
       "      <td>NaN</td>\n",
       "      <td>NaN</td>\n",
       "      <td>NaN</td>\n",
       "      <td>NaN</td>\n",
       "      <td>NaN</td>\n",
       "    </tr>\n",
       "    <tr>\n",
       "      <th>3</th>\n",
       "      <td>891689557279858688</td>\n",
       "      <td>2017-07-30 15:58:51+00:00</td>\n",
       "      <td>Twitter for iPhone</td>\n",
       "      <td>This is Darla. She commenced a snooze mid meal...</td>\n",
       "      <td>13</td>\n",
       "      <td>10</td>\n",
       "      <td>Darla</td>\n",
       "      <td>NaN</td>\n",
       "      <td>NaN</td>\n",
       "      <td>NaN</td>\n",
       "      <td>NaN</td>\n",
       "      <td>NaN</td>\n",
       "    </tr>\n",
       "    <tr>\n",
       "      <th>4</th>\n",
       "      <td>891327558926688256</td>\n",
       "      <td>2017-07-29 16:00:24+00:00</td>\n",
       "      <td>Twitter for iPhone</td>\n",
       "      <td>This is Franklin. He would like you to stop ca...</td>\n",
       "      <td>12</td>\n",
       "      <td>10</td>\n",
       "      <td>Franklin</td>\n",
       "      <td>NaN</td>\n",
       "      <td>NaN</td>\n",
       "      <td>NaN</td>\n",
       "      <td>NaN</td>\n",
       "      <td>NaN</td>\n",
       "    </tr>\n",
       "  </tbody>\n",
       "</table>\n",
       "</div>"
      ],
      "text/plain": [
       "             tweet_id                 timestamp              source  \\\n",
       "0  892420643555336193 2017-08-01 16:23:56+00:00  Twitter for iPhone   \n",
       "1  892177421306343426 2017-08-01 00:17:27+00:00  Twitter for iPhone   \n",
       "2  891815181378084864 2017-07-31 00:18:03+00:00  Twitter for iPhone   \n",
       "3  891689557279858688 2017-07-30 15:58:51+00:00  Twitter for iPhone   \n",
       "4  891327558926688256 2017-07-29 16:00:24+00:00  Twitter for iPhone   \n",
       "\n",
       "                                                text  rating_numerator  \\\n",
       "0  This is Phineas. He's a mystical boy. Only eve...                13   \n",
       "1  This is Tilly. She's just checking pup on you....                13   \n",
       "2  This is Archie. He is a rare Norwegian Pouncin...                12   \n",
       "3  This is Darla. She commenced a snooze mid meal...                13   \n",
       "4  This is Franklin. He would like you to stop ca...                12   \n",
       "\n",
       "   rating_denominator      name doggo floofer pupper puppo stage  \n",
       "0                  10   Phineas   NaN     NaN    NaN   NaN   NaN  \n",
       "1                  10     Tilly   NaN     NaN    NaN   NaN   NaN  \n",
       "2                  10    Archie   NaN     NaN    NaN   NaN   NaN  \n",
       "3                  10     Darla   NaN     NaN    NaN   NaN   NaN  \n",
       "4                  10  Franklin   NaN     NaN    NaN   NaN   NaN  "
      ]
     },
     "execution_count": 40,
     "metadata": {},
     "output_type": "execute_result"
    }
   ],
   "source": [
    "df_archive_clean.head()"
   ]
  },
  {
   "cell_type": "code",
   "execution_count": 41,
   "id": "826f6f17-48bf-4724-a8b4-9515cc8dde0d",
   "metadata": {},
   "outputs": [],
   "source": [
    "df_archive_clean.drop(['doggo','floofer','pupper','puppo'], axis = 1, inplace = True)"
   ]
  },
  {
   "cell_type": "code",
   "execution_count": 42,
   "id": "f2464f89-f2f7-4b7c-8e1d-0379c0242189",
   "metadata": {},
   "outputs": [
    {
     "data": {
      "text/plain": [
       "pupper           224\n",
       "doggo             75\n",
       "puppo             24\n",
       "doggo,puppo       11\n",
       "floofer            9\n",
       "doggo,floofer      1\n",
       "Name: stage, dtype: int64"
      ]
     },
     "execution_count": 42,
     "metadata": {},
     "output_type": "execute_result"
    }
   ],
   "source": [
    "df_archive_clean['stage'].value_counts()"
   ]
  },
  {
   "cell_type": "markdown",
   "id": "6856685e-2f4d-4b30-96be-4b5ddf1dd0f7",
   "metadata": {},
   "source": [
    "#### Test"
   ]
  },
  {
   "cell_type": "markdown",
   "id": "c86719e5-82ea-433d-8c9c-de2155c0deba",
   "metadata": {
    "jp-MarkdownHeadingCollapsed": true,
    "tags": []
   },
   "source": [
    "#### Define\n",
    "\n",
    "The rating numerator & denominator should be combined into 1 column\n"
   ]
  },
  {
   "cell_type": "markdown",
   "id": "8ffb20f5-defb-40d8-bdbc-14cc965af879",
   "metadata": {
    "tags": []
   },
   "source": [
    "#### Code"
   ]
  },
  {
   "cell_type": "code",
   "execution_count": null,
   "id": "d15a0329-d3f0-43d2-be5a-0f5d5d607124",
   "metadata": {},
   "outputs": [],
   "source": []
  },
  {
   "cell_type": "code",
   "execution_count": 43,
   "id": "da568944-4573-4b00-90b4-1b41efe76f7f",
   "metadata": {},
   "outputs": [],
   "source": [
    "df_archive_clean['doge_rating'] = df_archive_clean['rating_numerator'] / df_archive_clean['rating_denominator']"
   ]
  },
  {
   "cell_type": "markdown",
   "id": "897f5d0f-6ab0-4fb1-ad1b-ed26e98fbca4",
   "metadata": {},
   "source": [
    "#### Test"
   ]
  },
  {
   "cell_type": "code",
   "execution_count": 44,
   "id": "fb91a9f7-d47a-48ad-9ade-fb635104de99",
   "metadata": {},
   "outputs": [
    {
     "data": {
      "text/plain": [
       "1.200000      504\n",
       "1.000000      444\n",
       "1.100000      431\n",
       "1.300000      307\n",
       "0.900000      156\n",
       "0.800000       98\n",
       "0.700000       53\n",
       "1.400000       43\n",
       "0.500000       37\n",
       "0.600000       32\n",
       "0.300000       19\n",
       "0.400000       15\n",
       "0.200000       11\n",
       "0.100000        7\n",
       "42.000000       2\n",
       "0.000000        2\n",
       "1.250000        1\n",
       "0.636364        1\n",
       "0.818182        1\n",
       "177.600000      1\n",
       "2.700000        1\n",
       "66.600000       1\n",
       "7.500000        1\n",
       "3.428571        1\n",
       "1.700000        1\n",
       "0.733333        1\n",
       "inf             1\n",
       "1.500000        1\n",
       "18.200000       1\n",
       "2.600000        1\n",
       "Name: doge_rating, dtype: int64"
      ]
     },
     "execution_count": 44,
     "metadata": {},
     "output_type": "execute_result"
    }
   ],
   "source": [
    "# new column has been successfully added converting numerator and denominator into decimal score\n",
    "df_archive_clean['doge_rating'].value_counts()"
   ]
  },
  {
   "cell_type": "markdown",
   "id": "86cf80b9-1e12-4859-b2fc-95f865f136d7",
   "metadata": {},
   "source": [
    "#### Define\n",
    "The numerator and denominator columns can now be dropped because the doge_rating column has been added\n",
    "\n",
    "this will be done using .drop"
   ]
  },
  {
   "cell_type": "markdown",
   "id": "c7705a58-d3ec-4ee7-b8e6-1bf35dee136b",
   "metadata": {},
   "source": [
    "#### Code"
   ]
  },
  {
   "cell_type": "code",
   "execution_count": 45,
   "id": "8cfc8860-5b92-4f06-90d6-8ee547ecb4cb",
   "metadata": {},
   "outputs": [],
   "source": [
    "df_archive_clean.drop(columns=['rating_numerator','rating_denominator'], axis=1, inplace= True)"
   ]
  },
  {
   "cell_type": "markdown",
   "id": "b826d7d9-b4f4-4812-ae08-48d78b6d303d",
   "metadata": {},
   "source": [
    "#### Test"
   ]
  },
  {
   "cell_type": "code",
   "execution_count": 46,
   "id": "81e570a0-6c1b-4716-a755-990070a5d5df",
   "metadata": {},
   "outputs": [
    {
     "name": "stdout",
     "output_type": "stream",
     "text": [
      "<class 'pandas.core.frame.DataFrame'>\n",
      "Int64Index: 2175 entries, 0 to 2355\n",
      "Data columns (total 7 columns):\n",
      " #   Column       Non-Null Count  Dtype              \n",
      "---  ------       --------------  -----              \n",
      " 0   tweet_id     2175 non-null   int64              \n",
      " 1   timestamp    2175 non-null   datetime64[ns, UTC]\n",
      " 2   source       2175 non-null   object             \n",
      " 3   text         2175 non-null   object             \n",
      " 4   name         2175 non-null   object             \n",
      " 5   stage        344 non-null    object             \n",
      " 6   doge_rating  2175 non-null   float64            \n",
      "dtypes: datetime64[ns, UTC](1), float64(1), int64(1), object(4)\n",
      "memory usage: 135.9+ KB\n"
     ]
    }
   ],
   "source": [
    "#numerator and denominator are gone, replaced by doge_rating\n",
    "df_archive_clean.info()"
   ]
  },
  {
   "cell_type": "markdown",
   "id": "fedb1ecb-e1d0-4d16-8432-d9e8d89e5343",
   "metadata": {},
   "source": [
    "#### Define\n",
    "df_counts_clean table: We will use .rename to change the column 'id' to match 'tweet_id'"
   ]
  },
  {
   "cell_type": "markdown",
   "id": "1a855e52-ca10-428f-902f-a2d739be60bc",
   "metadata": {},
   "source": [
    "#### Code:"
   ]
  },
  {
   "cell_type": "code",
   "execution_count": 47,
   "id": "ffd31bbd-3bbf-4818-88f1-60b58a0321f4",
   "metadata": {},
   "outputs": [],
   "source": [
    "df_counts_clean.rename(columns={'id':'tweet_id'}, inplace = True)"
   ]
  },
  {
   "cell_type": "markdown",
   "id": "0d3f3f3e-3049-4891-9887-c0ddbf517bd8",
   "metadata": {},
   "source": [
    "#### Test"
   ]
  },
  {
   "cell_type": "code",
   "execution_count": 48,
   "id": "b1b44692-5000-42a6-b57e-d7f52acebe1d",
   "metadata": {},
   "outputs": [
    {
     "data": {
      "text/html": [
       "<div>\n",
       "<style scoped>\n",
       "    .dataframe tbody tr th:only-of-type {\n",
       "        vertical-align: middle;\n",
       "    }\n",
       "\n",
       "    .dataframe tbody tr th {\n",
       "        vertical-align: top;\n",
       "    }\n",
       "\n",
       "    .dataframe thead th {\n",
       "        text-align: right;\n",
       "    }\n",
       "</style>\n",
       "<table border=\"1\" class=\"dataframe\">\n",
       "  <thead>\n",
       "    <tr style=\"text-align: right;\">\n",
       "      <th></th>\n",
       "      <th>tweet_id</th>\n",
       "      <th>retweet_count</th>\n",
       "      <th>favorite_count</th>\n",
       "    </tr>\n",
       "  </thead>\n",
       "  <tbody>\n",
       "    <tr>\n",
       "      <th>0</th>\n",
       "      <td>892420643555336193</td>\n",
       "      <td>6945</td>\n",
       "      <td>33578</td>\n",
       "    </tr>\n",
       "  </tbody>\n",
       "</table>\n",
       "</div>"
      ],
      "text/plain": [
       "             tweet_id  retweet_count  favorite_count\n",
       "0  892420643555336193           6945           33578"
      ]
     },
     "execution_count": 48,
     "metadata": {},
     "output_type": "execute_result"
    }
   ],
   "source": [
    "# tweet_id has successfully replaced 'id'\n",
    "df_counts_clean.head(1)"
   ]
  },
  {
   "cell_type": "markdown",
   "id": "65e8b1e8-bde0-4ab2-ac33-e99a70ba8099",
   "metadata": {},
   "source": [
    "#### Define\n",
    "\n",
    "using pd.merge, we will combine all 3 dataframes"
   ]
  },
  {
   "cell_type": "markdown",
   "id": "39f4bf05-5e80-4d9d-8355-6b6ba44048ac",
   "metadata": {},
   "source": [
    "#### Code:"
   ]
  },
  {
   "cell_type": "code",
   "execution_count": 49,
   "id": "f5306bd8-451d-411d-a2b4-d10fc2414ba2",
   "metadata": {
    "tags": []
   },
   "outputs": [],
   "source": [
    "df_tweets = df_archive_clean.merge(df_counts_clean, on = 'tweet_id', how = 'left')\n",
    "df_tweets = df_tweets.merge(df_images_clean, on = 'tweet_id', how = 'left')"
   ]
  },
  {
   "cell_type": "markdown",
   "id": "26933519-ac1f-4a81-8f14-7bca6b68c1d3",
   "metadata": {},
   "source": [
    "#### Test"
   ]
  },
  {
   "cell_type": "code",
   "execution_count": 50,
   "id": "2a363ab3-3d5d-4c5f-9bdb-d31c0bb6439e",
   "metadata": {},
   "outputs": [
    {
     "data": {
      "text/plain": [
       "pupper           224\n",
       "doggo             75\n",
       "puppo             24\n",
       "doggo,puppo       11\n",
       "floofer            9\n",
       "doggo,floofer      1\n",
       "Name: stage, dtype: int64"
      ]
     },
     "execution_count": 50,
     "metadata": {},
     "output_type": "execute_result"
    }
   ],
   "source": [
    "#programmtic tests below show that the merge was successful\n",
    "df_tweets['stage'].value_counts()"
   ]
  },
  {
   "cell_type": "code",
   "execution_count": 51,
   "id": "9862abcc-04f6-4cdb-9b49-cb254855fecb",
   "metadata": {},
   "outputs": [
    {
     "data": {
      "text/plain": [
       "(2175, 20)"
      ]
     },
     "execution_count": 51,
     "metadata": {},
     "output_type": "execute_result"
    }
   ],
   "source": [
    "df_tweets.shape"
   ]
  },
  {
   "cell_type": "code",
   "execution_count": 52,
   "id": "89358696-5907-47c1-8a91-484ebcac67bf",
   "metadata": {},
   "outputs": [
    {
     "name": "stdout",
     "output_type": "stream",
     "text": [
      "<class 'pandas.core.frame.DataFrame'>\n",
      "Int64Index: 2175 entries, 0 to 2174\n",
      "Data columns (total 20 columns):\n",
      " #   Column          Non-Null Count  Dtype              \n",
      "---  ------          --------------  -----              \n",
      " 0   tweet_id        2175 non-null   int64              \n",
      " 1   timestamp       2175 non-null   datetime64[ns, UTC]\n",
      " 2   source          2175 non-null   object             \n",
      " 3   text            2175 non-null   object             \n",
      " 4   name            2175 non-null   object             \n",
      " 5   stage           344 non-null    object             \n",
      " 6   doge_rating     2175 non-null   float64            \n",
      " 7   retweet_count   725 non-null    float64            \n",
      " 8   favorite_count  725 non-null    float64            \n",
      " 9   jpg_url         1994 non-null   object             \n",
      " 10  img_num         1994 non-null   float64            \n",
      " 11  p1              1994 non-null   object             \n",
      " 12  p1_conf         1994 non-null   float64            \n",
      " 13  p1_dog          1994 non-null   object             \n",
      " 14  p2              1994 non-null   object             \n",
      " 15  p2_conf         1994 non-null   float64            \n",
      " 16  p2_dog          1994 non-null   object             \n",
      " 17  p3              1994 non-null   object             \n",
      " 18  p3_conf         1994 non-null   float64            \n",
      " 19  p3_dog          1994 non-null   object             \n",
      "dtypes: datetime64[ns, UTC](1), float64(7), int64(1), object(11)\n",
      "memory usage: 356.8+ KB\n"
     ]
    }
   ],
   "source": [
    "df_tweets.info()"
   ]
  },
  {
   "cell_type": "markdown",
   "id": "de31fb3d-e389-4100-a651-afe0f59e17f1",
   "metadata": {},
   "source": [
    "## <h2 id=\"storing\"> Storing the Data </h2>"
   ]
  },
  {
   "cell_type": "code",
   "execution_count": 53,
   "id": "4cbfc44c-76e5-47ca-b94c-cb693014383b",
   "metadata": {},
   "outputs": [],
   "source": [
    "df_tweets.to_csv('twitter_archive_master.csv', index=False)"
   ]
  },
  {
   "cell_type": "markdown",
   "id": "f5cce03f-c8e3-42c3-9e95-971912a112be",
   "metadata": {},
   "source": [
    "## <h2 id=\"visuals\"> Visualizing the Data </h2>"
   ]
  },
  {
   "cell_type": "code",
   "execution_count": 54,
   "id": "e382af30-e578-490e-a2ff-4634b9868f6f",
   "metadata": {},
   "outputs": [],
   "source": [
    "import matplotlib.pyplot as plt\n",
    "%matplotlib inline"
   ]
  },
  {
   "cell_type": "markdown",
   "id": "071106d8-1eb0-410e-8be6-28bbba7820a8",
   "metadata": {},
   "source": [
    "##### For the below horizontal bar charts, we have calculated the avg favorite count, doge rating, and retweet count for each type of dog. "
   ]
  },
  {
   "cell_type": "markdown",
   "id": "dfb4630a-e59a-44f8-b641-f4c9c18ee15d",
   "metadata": {},
   "source": [
    "##### In the below visualization, we are using the favorites data and timestamp data to create a very simple line plot showing how the number of avg favorites has fluctuated month to month from 2015 - 2017."
   ]
  },
  {
   "cell_type": "code",
   "execution_count": 55,
   "id": "2cb31b0c-d67e-4e0b-88b4-b5960ae982bc",
   "metadata": {},
   "outputs": [
    {
     "data": {
      "image/png": "[encoded data removed]",
      "text/plain": [
       "<Figure size 640x480 with 1 Axes>"
      ]
     },
     "metadata": {},
     "output_type": "display_data"
    },
    {
     "data": {
      "image/png": "[encoded data removed]",
      "text/plain": [
       "<Figure size 640x480 with 1 Axes>"
      ]
     },
     "metadata": {},
     "output_type": "display_data"
    },
    {
     "data": {
      "image/png": "[encoded data removed]",
      "text/plain": [
       "<Figure size 640x480 with 1 Axes>"
      ]
     },
     "metadata": {},
     "output_type": "display_data"
    }
   ],
   "source": [
    "goofer_list = np.array(df_tweets[df_tweets['stage'].notnull()]['stage'].unique())\n",
    "goofer_list = goofer_list.tolist()\n",
    "for goofer in goofer_list:\n",
    "    if goofer == 'doggo,floofer':\n",
    "        goofer_list.remove(goofer)\n",
    "        \n",
    "for goofer in goofer_list:\n",
    "    if goofer == 'doggo,puppo':\n",
    "        goofer_list.remove(goofer)\n",
    "\n",
    "favorite_list = []\n",
    "retweet_list = []\n",
    "rating_list = []\n",
    "\n",
    "for goof in goofer_list:\n",
    "    dfx = df_tweets[df_tweets['stage'] == goof]\n",
    "    avg_favs = dfx['favorite_count'].mean()\n",
    "    favorite_list.append(avg_favs)\n",
    "    avg_rts = dfx['retweet_count'].mean()\n",
    "    retweet_list.append(avg_rts)\n",
    "    avg_rating = dfx['doge_rating'].mean()\n",
    "    rating_list.append(avg_rating)\n",
    "\n",
    "\n",
    "plt.barh(goofer_list, favorite_list)\n",
    "plt.title('Avg Favorites by Goofer Type')\n",
    "plt.show()\n",
    "\n",
    "plt.barh(goofer_list, retweet_list)\n",
    "plt.title('Avg Retweets by Goofer Type')\n",
    "plt.show()\n",
    "\n",
    "\n",
    "plt.barh(goofer_list, rating_list)\n",
    "plt.title('Avg Rating by Goofer Type')\n",
    "plt.show()\n",
    "\n",
    "\n",
    "    "
   ]
  },
  {
   "cell_type": "code",
   "execution_count": 68,
   "id": "6a770fb1-a37b-48e1-ad1f-f57c72087a74",
   "metadata": {},
   "outputs": [
    {
     "data": {
      "text/plain": [
       "Text(0.5, 0, 'Date')"
      ]
     },
     "execution_count": 68,
     "metadata": {},
     "output_type": "execute_result"
    },
    {
     "data": {
      "image/png": "[encoded data removed]",
      "text/plain": [
       "<Figure size 2000x500 with 1 Axes>"
      ]
     },
     "metadata": {},
     "output_type": "display_data"
    }
   ],
   "source": [
    "df_tweets['date'] = df_tweets['timestamp'].dt.date\n",
    "\n",
    "df_days = df_tweets.groupby(by='date', as_index=False)['tweet_id'].count()\n",
    "\n",
    "plt.plot(df_days['date'], df_days['tweet_id'])\n",
    "plt.rcParams[\"figure.figsize\"] = (20,5)\n",
    "plt.title('Daily Tweets Over Time')\n",
    "plt.ylabel('Number of Tweets')\n",
    "plt.xlabel('Date')"
   ]
  },
  {
   "cell_type": "markdown",
   "id": "fc159f80-6683-44d7-9c06-051c257876df",
   "metadata": {},
   "source": [
    "## <h2 id=\"insights\"> Insights and Documentation </h2>\n",
    "\n",
    "1. Puppos get the most love in all categories (No Surprise Here)\n",
    "2. Puppers are the least loved in all categories (Sad Day)\n",
    "3. From 2015 - 2017, the number of daily tweets decreased steadily."
   ]
  },
  {
   "cell_type": "code",
   "execution_count": null,
   "id": "f577f155-071a-49e7-a8de-ad6e1f5951f9",
   "metadata": {},
   "outputs": [],
   "source": []
  }
 ],
 "metadata": {
  "kernelspec": {
   "display_name": "Python 3 (ipykernel)",
   "language": "python",
   "name": "python3"
  },
  "language_info": {
   "codemirror_mode": {
    "name": "ipython",
    "version": 3
   },
   "file_extension": ".py",
   "mimetype": "text/x-python",
   "name": "python",
   "nbconvert_exporter": "python",
   "pygments_lexer": "ipython3",
   "version": "3.10.0"
  }
 },
 "nbformat": 4,
 "nbformat_minor": 5
}
